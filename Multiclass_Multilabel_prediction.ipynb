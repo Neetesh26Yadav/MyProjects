{
  "cells": [
    {
      "cell_type": "code",
      "execution_count": 1,
      "metadata": {
        "colab": {
          "base_uri": "https://localhost:8080/"
        },
        "id": "-YQzaC1X9plc",
        "outputId": "b5fee59b-4d29-4f40-a878-1d4f9b80d4d6"
      },
      "outputs": [
        {
          "name": "stdout",
          "output_type": "stream",
          "text": [
            "Colab only includes TensorFlow 2.x; %tensorflow_version has no effect.\n"
          ]
        }
      ],
      "source": [
        "%tensorflow_version 2.x"
      ]
    },
    {
      "cell_type": "code",
      "execution_count": 2,
      "metadata": {
        "colab": {
          "base_uri": "https://localhost:8080/"
        },
        "id": "6K-9dwVlWNM8",
        "outputId": "d985cc02-edfb-4cc1-8942-52808f22b6e1"
      },
      "outputs": [
        {
          "name": "stdout",
          "output_type": "stream",
          "text": [
            "--2024-05-21 07:18:51--  https://www.dropbox.com/s/5721wcs2guuykzl/stacksample.zip?dl=0\n",
            "Resolving www.dropbox.com (www.dropbox.com)... 162.125.6.18, 2620:100:601c:18::a27d:612\n",
            "Connecting to www.dropbox.com (www.dropbox.com)|162.125.6.18|:443... connected.\n",
            "HTTP request sent, awaiting response... 302 Found\n",
            "Location: /s/raw/5721wcs2guuykzl/stacksample.zip [following]\n",
            "--2024-05-21 07:18:51--  https://www.dropbox.com/s/raw/5721wcs2guuykzl/stacksample.zip\n",
            "Reusing existing connection to www.dropbox.com:443.\n",
            "HTTP request sent, awaiting response... 302 Found\n",
            "Location: https://uc6ac9688f7a96963c6d002562eb.dl.dropboxusercontent.com/cd/0/inline/CTThVM4t_ybiBTh1tG-FxgaLqMg14MISSTG1z9SKEwQ7CQCBTHPPu06mrH_T-qCAg2lSnYyrRtV-dLtnLbIRXNZZH0-oy013Ro6o5WTQdilfDzuZqY5ZChv_GoSoYbzaSpc/file# [following]\n",
            "--2024-05-21 07:18:51--  https://uc6ac9688f7a96963c6d002562eb.dl.dropboxusercontent.com/cd/0/inline/CTThVM4t_ybiBTh1tG-FxgaLqMg14MISSTG1z9SKEwQ7CQCBTHPPu06mrH_T-qCAg2lSnYyrRtV-dLtnLbIRXNZZH0-oy013Ro6o5WTQdilfDzuZqY5ZChv_GoSoYbzaSpc/file\n",
            "Resolving uc6ac9688f7a96963c6d002562eb.dl.dropboxusercontent.com (uc6ac9688f7a96963c6d002562eb.dl.dropboxusercontent.com)... 162.125.4.15, 2620:100:6019:15::a27d:40f\n",
            "Connecting to uc6ac9688f7a96963c6d002562eb.dl.dropboxusercontent.com (uc6ac9688f7a96963c6d002562eb.dl.dropboxusercontent.com)|162.125.4.15|:443... connected.\n",
            "HTTP request sent, awaiting response... 302 Found\n",
            "Location: /cd/0/inline2/CTT_7KeJ9oSZrvSD9r2shXcfQOxFL0FO9a4zOa2Wq-gqLLCye8bJA7BSLNFsIPaPr2AQBBKR-cBv38hdYhtvNLuqm2pNN4LNTYOpuku47obwTLSZKKP25LpugW_3ktAL5dizIwTqoWYr9uIbdQezAWrOrLRWqdjY4WlucDRoJtzcCazUFbh90yRW3cj1v8M4srUX6Up_Kja5Y02NaSUpmBfx4xyRsxw05myjS7FbBvYuBFjwqVxQPJJpNxnsmQam7SQQAsv2_pGE0N-L0eTZAYYQrn5t7VWqBxc201kZYAyPEDV7NYapYAitZSBE3ntegLmjn8SsLk45n-e4s_oOoOxa_anglgY44sMZ2lMtT6XVvw/file [following]\n",
            "--2024-05-21 07:18:52--  https://uc6ac9688f7a96963c6d002562eb.dl.dropboxusercontent.com/cd/0/inline2/CTT_7KeJ9oSZrvSD9r2shXcfQOxFL0FO9a4zOa2Wq-gqLLCye8bJA7BSLNFsIPaPr2AQBBKR-cBv38hdYhtvNLuqm2pNN4LNTYOpuku47obwTLSZKKP25LpugW_3ktAL5dizIwTqoWYr9uIbdQezAWrOrLRWqdjY4WlucDRoJtzcCazUFbh90yRW3cj1v8M4srUX6Up_Kja5Y02NaSUpmBfx4xyRsxw05myjS7FbBvYuBFjwqVxQPJJpNxnsmQam7SQQAsv2_pGE0N-L0eTZAYYQrn5t7VWqBxc201kZYAyPEDV7NYapYAitZSBE3ntegLmjn8SsLk45n-e4s_oOoOxa_anglgY44sMZ2lMtT6XVvw/file\n",
            "Reusing existing connection to uc6ac9688f7a96963c6d002562eb.dl.dropboxusercontent.com:443.\n",
            "HTTP request sent, awaiting response... 200 OK\n",
            "Length: 1231288519 (1.1G) [application/zip]\n",
            "Saving to: ‘stacksample.zip?dl=0’\n",
            "\n",
            "stacksample.zip?dl= 100%[===================>]   1.15G  44.8MB/s    in 25s     \n",
            "\n",
            "2024-05-21 07:19:17 (47.2 MB/s) - ‘stacksample.zip?dl=0’ saved [1231288519/1231288519]\n",
            "\n"
          ]
        }
      ],
      "source": [
        "!wget https://www.dropbox.com/s/5721wcs2guuykzl/stacksample.zip?dl=0"
      ]
    },
    {
      "cell_type": "code",
      "execution_count": 3,
      "metadata": {
        "colab": {
          "base_uri": "https://localhost:8080/"
        },
        "id": "MAEri0_MWZTb",
        "outputId": "4122626c-fe28-47bc-c4cf-4c607c4453ca"
      },
      "outputs": [
        {
          "name": "stdout",
          "output_type": "stream",
          "text": [
            "Archive:  stacksample.zip?dl=0\n",
            "  inflating: Answers.csv             \n",
            "  inflating: Questions.csv           \n",
            "  inflating: Tags.csv                \n"
          ]
        }
      ],
      "source": [
        "!unzip stacksample.zip?dl=0"
      ]
    },
    {
      "cell_type": "code",
      "execution_count": 4,
      "metadata": {
        "colab": {
          "base_uri": "https://localhost:8080/"
        },
        "id": "gJpxU8MdqIJK",
        "outputId": "e4049bee-0f92-4f18-9f38-dc82f9fb01f1"
      },
      "outputs": [
        {
          "name": "stdout",
          "output_type": "stream",
          "text": [
            "Requirement already satisfied: nltk in /usr/local/lib/python3.10/dist-packages (3.8.1)\n",
            "Requirement already satisfied: click in /usr/local/lib/python3.10/dist-packages (from nltk) (8.1.7)\n",
            "Requirement already satisfied: joblib in /usr/local/lib/python3.10/dist-packages (from nltk) (1.4.2)\n",
            "Requirement already satisfied: regex>=2021.8.3 in /usr/local/lib/python3.10/dist-packages (from nltk) (2023.12.25)\n",
            "Requirement already satisfied: tqdm in /usr/local/lib/python3.10/dist-packages (from nltk) (4.66.4)\n"
          ]
        }
      ],
      "source": [
        "!pip install nltk"
      ]
    },
    {
      "cell_type": "code",
      "execution_count": 5,
      "metadata": {
        "id": "04GKomA5XEIB"
      },
      "outputs": [],
      "source": [
        "import warnings\n",
        "warnings.filterwarnings('ignore')\n",
        "import pandas as pd\n",
        "from sklearn.model_selection import train_test_split\n",
        "from sklearn.preprocessing import MultiLabelBinarizer"
      ]
    },
    {
      "cell_type": "code",
      "execution_count": 6,
      "metadata": {
        "id": "nl4NbtbJZsrB"
      },
      "outputs": [],
      "source": [
        "ans_file = r\"/content/Answers.csv\"\n",
        "ques_file = r\"/content/Questions.csv\"\n",
        "tag_file = r\"/content/Tags.csv\""
      ]
    },
    {
      "cell_type": "code",
      "execution_count": 7,
      "metadata": {
        "id": "PqY9133KaF0B"
      },
      "outputs": [],
      "source": [
        "Ans = pd.read_csv(ans_file, encoding='latin-1', on_bad_lines='skip')\n",
        "Ques = pd.read_csv(ques_file, encoding='latin-1', on_bad_lines='skip')\n",
        "Tags = pd.read_csv(tag_file, encoding='latin-1',on_bad_lines='skip')"
      ]
    },
    {
      "cell_type": "code",
      "execution_count": 8,
      "metadata": {
        "id": "jNn8I1o2BEMH"
      },
      "outputs": [],
      "source": [
        "Ques['Title'] = Ques['Title'].str.lower().str.replace('[^\\w\\s]', '')\n",
        "Ques['Body'] = Ques['Body'].str.lower().str.replace('[^\\w\\s]', '')"
      ]
    },
    {
      "cell_type": "code",
      "execution_count": 9,
      "metadata": {
        "id": "PttZDBEsn5i7"
      },
      "outputs": [],
      "source": [
        "top_tags = Tags['Tag'].value_counts().head(10).index.tolist()\n",
        "filtered_tags = Tags[Tags['Tag'].isin(top_tags)]"
      ]
    },
    {
      "cell_type": "code",
      "execution_count": 10,
      "metadata": {
        "id": "qdJ4Rp0Zo8Zp"
      },
      "outputs": [],
      "source": [
        "merged_data = pd.merge(Ques, filtered_tags, on='Id')"
      ]
    },
    {
      "cell_type": "code",
      "execution_count": 11,
      "metadata": {
        "id": "XiAn37HgpYYY"
      },
      "outputs": [],
      "source": [
        "mlb = MultiLabelBinarizer()\n",
        "merged_data['Tag'] = merged_data.groupby('Id')['Tag'].transform(lambda x: list(set(x)))\n",
        "y = mlb.fit_transform(merged_data['Tag'])\n"
      ]
    },
    {
      "cell_type": "code",
      "execution_count": 12,
      "metadata": {
        "id": "fYpMIvpoBbOR"
      },
      "outputs": [],
      "source": [
        "X_train, X_val, y_train, y_val = train_test_split(merged_data['Body'], y, test_size=0.2, random_state=42)\n"
      ]
    },
    {
      "cell_type": "code",
      "execution_count": 13,
      "metadata": {
        "id": "1qFFlGILJzIQ"
      },
      "outputs": [],
      "source": [
        "# print(X_train.shape)\n",
        "# print(X_val.shape)\n",
        "# print(y_train.shape)\n",
        "# print(y_val.shape)"
      ]
    },
    {
      "cell_type": "markdown",
      "metadata": {
        "id": "hK-CTUBsEG4X"
      },
      "source": [
        "## Building Model using LSTM"
      ]
    },
    {
      "cell_type": "code",
      "execution_count": 14,
      "metadata": {
        "colab": {
          "base_uri": "https://localhost:8080/"
        },
        "id": "DzUIp2Vo7G1h",
        "outputId": "d384aa91-10fb-4513-d1a6-7d73630aefc3"
      },
      "outputs": [
        {
          "name": "stdout",
          "output_type": "stream",
          "text": [
            "Epoch 1/2\n",
            "10335/10335 [==============================] - 3009s 291ms/step - loss: 28.7455 - accuracy: 0.0562 - val_loss: 43.1671 - val_accuracy: 0.0000e+00\n",
            "Epoch 2/2\n",
            "10335/10335 [==============================] - 2635s 255ms/step - loss: 61.1926 - accuracy: 0.0931 - val_loss: 78.0683 - val_accuracy: 0.0000e+00\n"
          ]
        }
      ],
      "source": [
        "from tensorflow.keras.preprocessing.text import Tokenizer\n",
        "from tensorflow.keras.preprocessing.sequence import pad_sequences\n",
        "from tensorflow.keras.models import Sequential\n",
        "from tensorflow.keras.layers import Embedding, LSTM, Dense, SpatialDropout1D, Dropout\n",
        "from tensorflow.keras.callbacks import EarlyStopping\n",
        "\n",
        "# Tokenizing the text\n",
        "tokenizer = Tokenizer(num_words=5000)\n",
        "tokenizer.fit_on_texts(X_train)\n",
        "X_train_seq = tokenizer.texts_to_sequences(X_train)\n",
        "X_val_seq = tokenizer.texts_to_sequences(X_val)\n",
        "\n",
        "# Padding the sequences\n",
        "max_sequence_length = 100\n",
        "X_train_pad = pad_sequences(X_train_seq, maxlen=max_sequence_length)\n",
        "X_val_pad = pad_sequences(X_val_seq, maxlen=max_sequence_length)\n",
        "\n",
        "# Building the model\n",
        "model = Sequential()\n",
        "model.add(Embedding(5000, 100, input_length=max_sequence_length))\n",
        "model.add(SpatialDropout1D(0.2))\n",
        "model.add(LSTM(100))\n",
        "model.add(Dropout(0.2))\n",
        "model.add(Dense(21, activation='softmax'))\n",
        "\n",
        "# Compiling the model\n",
        "model.compile(loss='categorical_crossentropy', optimizer='adam', metrics=['accuracy'])\n",
        "\n",
        "epochs = 5\n",
        "batch_size = 64\n",
        "\n",
        "history = model.fit(X_train_pad, y_train, epochs=epochs, batch_size=batch_size,\n",
        "                    validation_data=(X_val_pad, y_val),\n",
        "                    callbacks=[EarlyStopping(monitor='val_loss', patience=3, min_delta=0.0001)])\n",
        "\n"
      ]
    },
    {
      "cell_type": "markdown",
      "metadata": {
        "id": "wkHw06PiCqoN"
      },
      "source": [
        "## Evaluating and saving the Model."
      ]
    },
    {
      "cell_type": "code",
      "execution_count": 15,
      "metadata": {
        "colab": {
          "base_uri": "https://localhost:8080/"
        },
        "id": "sm4F9YNzCpgD",
        "outputId": "280d874d-5a8b-4d81-fe60-d173d8bdc9af"
      },
      "outputs": [
        {
          "name": "stdout",
          "output_type": "stream",
          "text": [
            "5168/5168 [==============================] - 192s 37ms/step - loss: 78.0683 - accuracy: 0.0000e+00\n"
          ]
        },
        {
          "data": {
            "text/plain": [
              "2"
            ]
          },
          "execution_count": 15,
          "metadata": {},
          "output_type": "execute_result"
        }
      ],
      "source": [
        "model.evaluate(X_val_pad, y_val)\n",
        "model.save('stack_overflow_tag_predictor.h5')\n",
        "2"
      ]
    }
  ],
  "metadata": {
    "accelerator": "GPU",
    "colab": {
      "gpuType": "T4",
      "provenance": []
    },
    "kernelspec": {
      "display_name": "Python 3",
      "name": "python3"
    },
    "language_info": {
      "name": "python"
    }
  },
  "nbformat": 4,
  "nbformat_minor": 0
}
